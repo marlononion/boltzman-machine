{
 "cells": [
  {
   "cell_type": "code",
   "execution_count": 1,
   "id": "derived-paper",
   "metadata": {},
   "outputs": [],
   "source": [
    "import numpy as np\n",
    "import matplotlib.pyplot as plt\n",
    "from sklearn import datasets, metrics\n",
    "from sklearn.model_selection import train_test_split\n",
    "from sklearn.preprocessing import MinMaxScaler"
   ]
  },
  {
   "cell_type": "code",
   "execution_count": 6,
   "id": "pleasant-laser",
   "metadata": {},
   "outputs": [],
   "source": [
    "from sklearn.neural_network import BernoulliRBM\n",
    "from sklearn.naive_bayes import GaussianNB\n",
    "from sklearn.pipeline import Pipeline"
   ]
  },
  {
   "cell_type": "code",
   "execution_count": 7,
   "id": "engaging-grounds",
   "metadata": {},
   "outputs": [],
   "source": [
    "base = datasets.load_digits()"
   ]
  },
  {
   "cell_type": "code",
   "execution_count": 9,
   "id": "hourly-batman",
   "metadata": {},
   "outputs": [],
   "source": [
    "import pandas as pd"
   ]
  },
  {
   "cell_type": "code",
   "execution_count": 13,
   "id": "variable-disorder",
   "metadata": {},
   "outputs": [],
   "source": [
    "previsores = np.asarray(base.data, 'float32')\n",
    "classe = base.target"
   ]
  },
  {
   "cell_type": "code",
   "execution_count": 16,
   "id": "civilian-rover",
   "metadata": {},
   "outputs": [],
   "source": [
    "norm = MinMaxScaler(feature_range=(0, 1))"
   ]
  },
  {
   "cell_type": "code",
   "execution_count": 17,
   "id": "complicated-shift",
   "metadata": {},
   "outputs": [],
   "source": [
    "previsores = norm.fit_transform(previsores)"
   ]
  },
  {
   "cell_type": "code",
   "execution_count": 20,
   "id": "fitting-reproduction",
   "metadata": {},
   "outputs": [
    {
     "data": {
      "text/html": [
       "<div>\n",
       "<style scoped>\n",
       "    .dataframe tbody tr th:only-of-type {\n",
       "        vertical-align: middle;\n",
       "    }\n",
       "\n",
       "    .dataframe tbody tr th {\n",
       "        vertical-align: top;\n",
       "    }\n",
       "\n",
       "    .dataframe thead th {\n",
       "        text-align: right;\n",
       "    }\n",
       "</style>\n",
       "<table border=\"1\" class=\"dataframe\">\n",
       "  <thead>\n",
       "    <tr style=\"text-align: right;\">\n",
       "      <th></th>\n",
       "      <th>0</th>\n",
       "      <th>1</th>\n",
       "      <th>2</th>\n",
       "      <th>3</th>\n",
       "      <th>4</th>\n",
       "      <th>5</th>\n",
       "      <th>6</th>\n",
       "      <th>7</th>\n",
       "      <th>8</th>\n",
       "      <th>9</th>\n",
       "      <th>...</th>\n",
       "      <th>54</th>\n",
       "      <th>55</th>\n",
       "      <th>56</th>\n",
       "      <th>57</th>\n",
       "      <th>58</th>\n",
       "      <th>59</th>\n",
       "      <th>60</th>\n",
       "      <th>61</th>\n",
       "      <th>62</th>\n",
       "      <th>63</th>\n",
       "    </tr>\n",
       "  </thead>\n",
       "  <tbody>\n",
       "    <tr>\n",
       "      <th>0</th>\n",
       "      <td>0.0</td>\n",
       "      <td>0.0</td>\n",
       "      <td>0.3125</td>\n",
       "      <td>0.8125</td>\n",
       "      <td>0.5625</td>\n",
       "      <td>0.0625</td>\n",
       "      <td>0.0</td>\n",
       "      <td>0.0</td>\n",
       "      <td>0.0</td>\n",
       "      <td>0.0</td>\n",
       "      <td>...</td>\n",
       "      <td>0.0000</td>\n",
       "      <td>0.0</td>\n",
       "      <td>0.0</td>\n",
       "      <td>0.0</td>\n",
       "      <td>0.3750</td>\n",
       "      <td>0.8125</td>\n",
       "      <td>0.6250</td>\n",
       "      <td>0.0000</td>\n",
       "      <td>0.0000</td>\n",
       "      <td>0.0</td>\n",
       "    </tr>\n",
       "    <tr>\n",
       "      <th>1</th>\n",
       "      <td>0.0</td>\n",
       "      <td>0.0</td>\n",
       "      <td>0.0000</td>\n",
       "      <td>0.7500</td>\n",
       "      <td>0.8125</td>\n",
       "      <td>0.3125</td>\n",
       "      <td>0.0</td>\n",
       "      <td>0.0</td>\n",
       "      <td>0.0</td>\n",
       "      <td>0.0</td>\n",
       "      <td>...</td>\n",
       "      <td>0.0000</td>\n",
       "      <td>0.0</td>\n",
       "      <td>0.0</td>\n",
       "      <td>0.0</td>\n",
       "      <td>0.0000</td>\n",
       "      <td>0.6875</td>\n",
       "      <td>1.0000</td>\n",
       "      <td>0.6250</td>\n",
       "      <td>0.0000</td>\n",
       "      <td>0.0</td>\n",
       "    </tr>\n",
       "    <tr>\n",
       "      <th>2</th>\n",
       "      <td>0.0</td>\n",
       "      <td>0.0</td>\n",
       "      <td>0.0000</td>\n",
       "      <td>0.2500</td>\n",
       "      <td>0.9375</td>\n",
       "      <td>0.7500</td>\n",
       "      <td>0.0</td>\n",
       "      <td>0.0</td>\n",
       "      <td>0.0</td>\n",
       "      <td>0.0</td>\n",
       "      <td>...</td>\n",
       "      <td>0.3125</td>\n",
       "      <td>0.0</td>\n",
       "      <td>0.0</td>\n",
       "      <td>0.0</td>\n",
       "      <td>0.0000</td>\n",
       "      <td>0.1875</td>\n",
       "      <td>0.6875</td>\n",
       "      <td>1.0000</td>\n",
       "      <td>0.5625</td>\n",
       "      <td>0.0</td>\n",
       "    </tr>\n",
       "    <tr>\n",
       "      <th>3</th>\n",
       "      <td>0.0</td>\n",
       "      <td>0.0</td>\n",
       "      <td>0.4375</td>\n",
       "      <td>0.9375</td>\n",
       "      <td>0.8125</td>\n",
       "      <td>0.0625</td>\n",
       "      <td>0.0</td>\n",
       "      <td>0.0</td>\n",
       "      <td>0.0</td>\n",
       "      <td>0.5</td>\n",
       "      <td>...</td>\n",
       "      <td>0.5625</td>\n",
       "      <td>0.0</td>\n",
       "      <td>0.0</td>\n",
       "      <td>0.0</td>\n",
       "      <td>0.4375</td>\n",
       "      <td>0.8125</td>\n",
       "      <td>0.8125</td>\n",
       "      <td>0.5625</td>\n",
       "      <td>0.0000</td>\n",
       "      <td>0.0</td>\n",
       "    </tr>\n",
       "    <tr>\n",
       "      <th>4</th>\n",
       "      <td>0.0</td>\n",
       "      <td>0.0</td>\n",
       "      <td>0.0000</td>\n",
       "      <td>0.0625</td>\n",
       "      <td>0.6875</td>\n",
       "      <td>0.0000</td>\n",
       "      <td>0.0</td>\n",
       "      <td>0.0</td>\n",
       "      <td>0.0</td>\n",
       "      <td>0.0</td>\n",
       "      <td>...</td>\n",
       "      <td>0.0000</td>\n",
       "      <td>0.0</td>\n",
       "      <td>0.0</td>\n",
       "      <td>0.0</td>\n",
       "      <td>0.0000</td>\n",
       "      <td>0.1250</td>\n",
       "      <td>1.0000</td>\n",
       "      <td>0.2500</td>\n",
       "      <td>0.0000</td>\n",
       "      <td>0.0</td>\n",
       "    </tr>\n",
       "  </tbody>\n",
       "</table>\n",
       "<p>5 rows × 64 columns</p>\n",
       "</div>"
      ],
      "text/plain": [
       "    0    1       2       3       4       5    6    7    8    9   ...      54  \\\n",
       "0  0.0  0.0  0.3125  0.8125  0.5625  0.0625  0.0  0.0  0.0  0.0  ...  0.0000   \n",
       "1  0.0  0.0  0.0000  0.7500  0.8125  0.3125  0.0  0.0  0.0  0.0  ...  0.0000   \n",
       "2  0.0  0.0  0.0000  0.2500  0.9375  0.7500  0.0  0.0  0.0  0.0  ...  0.3125   \n",
       "3  0.0  0.0  0.4375  0.9375  0.8125  0.0625  0.0  0.0  0.0  0.5  ...  0.5625   \n",
       "4  0.0  0.0  0.0000  0.0625  0.6875  0.0000  0.0  0.0  0.0  0.0  ...  0.0000   \n",
       "\n",
       "    55   56   57      58      59      60      61      62   63  \n",
       "0  0.0  0.0  0.0  0.3750  0.8125  0.6250  0.0000  0.0000  0.0  \n",
       "1  0.0  0.0  0.0  0.0000  0.6875  1.0000  0.6250  0.0000  0.0  \n",
       "2  0.0  0.0  0.0  0.0000  0.1875  0.6875  1.0000  0.5625  0.0  \n",
       "3  0.0  0.0  0.0  0.4375  0.8125  0.8125  0.5625  0.0000  0.0  \n",
       "4  0.0  0.0  0.0  0.0000  0.1250  1.0000  0.2500  0.0000  0.0  \n",
       "\n",
       "[5 rows x 64 columns]"
      ]
     },
     "execution_count": 20,
     "metadata": {},
     "output_type": "execute_result"
    }
   ],
   "source": [
    "pd.DataFrame(previsores).head(5)"
   ]
  },
  {
   "cell_type": "code",
   "execution_count": 21,
   "id": "present-relations",
   "metadata": {},
   "outputs": [],
   "source": [
    "x_train, x_test, y_train, y_test = train_test_split(previsores, classe, test_size=0.2, random_state=0)"
   ]
  },
  {
   "cell_type": "code",
   "execution_count": 26,
   "id": "legal-policy",
   "metadata": {},
   "outputs": [
    {
     "data": {
      "text/plain": [
       "Pipeline(steps=[('rbm',\n",
       "                 BernoulliRBM(n_components=50, n_iter=25, random_state=0)),\n",
       "                ('naive', GaussianNB())])"
      ]
     },
     "execution_count": 26,
     "metadata": {},
     "output_type": "execute_result"
    }
   ],
   "source": [
    "rbm = BernoulliRBM(random_state=0)\n",
    "rbm.n_iter = 25\n",
    "rbm.n_components = 50\n",
    "naive_rbm = GaussianNB()\n",
    "classificador_rbm = Pipeline(steps=[('rbm', rbm), ('naive', naive_rbm)])\n",
    "classificador_rbm.fit(x_train, y_train)"
   ]
  },
  {
   "cell_type": "code",
   "execution_count": 28,
   "id": "standing-research",
   "metadata": {},
   "outputs": [
    {
     "data": {
      "image/png": "[encoded data removed]",
      "text/plain": [
       "<Figure size 1440x1440 with 50 Axes>"
      ]
     },
     "metadata": {},
     "output_type": "display_data"
    }
   ],
   "source": [
    "plt.figure(figsize=(20, 20))\n",
    "for i, comp in enumerate(rbm.components_):\n",
    "    plt.subplot(10, 10, i+1)\n",
    "    plt.imshow(comp.reshape((8, 8)), cmap=plt.cm.gray_r)\n",
    "    plt.xticks(())\n",
    "    plt.yticks(())\n",
    "plt.show()"
   ]
  },
  {
   "cell_type": "markdown",
   "id": "buried-stable",
   "metadata": {},
   "source": [
    "# RBM x Sem RBM"
   ]
  },
  {
   "cell_type": "code",
   "execution_count": 29,
   "id": "portuguese-spice",
   "metadata": {},
   "outputs": [],
   "source": [
    "previsores_rbm = classificador_rbm.predict(x_test)"
   ]
  },
  {
   "cell_type": "code",
   "execution_count": 31,
   "id": "attached-dominican",
   "metadata": {},
   "outputs": [],
   "source": [
    "from sklearn.metrics import accuracy_score"
   ]
  },
  {
   "cell_type": "code",
   "execution_count": 36,
   "id": "numerical-substitute",
   "metadata": {},
   "outputs": [
    {
     "name": "stdout",
     "output_type": "stream",
     "text": [
      "88.89%\n"
     ]
    }
   ],
   "source": [
    "print(\"{:.2f}%\" .format(accuracy_score(previsores_rbm, y_test)*100))"
   ]
  },
  {
   "cell_type": "code",
   "execution_count": 37,
   "id": "viral-stock",
   "metadata": {},
   "outputs": [
    {
     "name": "stdout",
     "output_type": "stream",
     "text": [
      "81.11%\n"
     ]
    }
   ],
   "source": [
    "naive_simples = GaussianNB()\n",
    "naive_simples.fit(x_train, y_train)\n",
    "previsoes = naive_simples.predict(x_test)\n",
    "print(\"{:.2f}%\" .format(accuracy_score(previsoes, y_test)*100))"
   ]
  },
  {
   "cell_type": "code",
   "execution_count": null,
   "id": "worthy-mainstream",
   "metadata": {},
   "outputs": [],
   "source": []
  }
 ],
 "metadata": {
  "kernelspec": {
   "display_name": "Python 3",
   "language": "python",
   "name": "python3"
  },
  "language_info": {
   "codemirror_mode": {
    "name": "ipython",
    "version": 3
   },
   "file_extension": ".py",
   "mimetype": "text/x-python",
   "name": "python",
   "nbconvert_exporter": "python",
   "pygments_lexer": "ipython3",
   "version": "3.8.5"
  }
 },
 "nbformat": 4,
 "nbformat_minor": 5
}
